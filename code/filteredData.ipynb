{
 "cells": [
  {
   "cell_type": "code",
   "execution_count": 2,
   "metadata": {},
   "outputs": [],
   "source": [
    "import pandas as pd"
   ]
  },
  {
   "cell_type": "code",
   "execution_count": 22,
   "metadata": {},
   "outputs": [],
   "source": [
    "df = pd.read_csv(\"../data/csv_files/at200.csv\")"
   ]
  },
  {
   "cell_type": "code",
   "execution_count": 23,
   "metadata": {},
   "outputs": [
    {
     "data": {
      "text/html": [
       "<div>\n",
       "<style scoped>\n",
       "    .dataframe tbody tr th:only-of-type {\n",
       "        vertical-align: middle;\n",
       "    }\n",
       "\n",
       "    .dataframe tbody tr th {\n",
       "        vertical-align: top;\n",
       "    }\n",
       "\n",
       "    .dataframe thead th {\n",
       "        text-align: right;\n",
       "    }\n",
       "</style>\n",
       "<table border=\"1\" class=\"dataframe\">\n",
       "  <thead>\n",
       "    <tr style=\"text-align: right;\">\n",
       "      <th></th>\n",
       "      <th>Date Time</th>\n",
       "      <th>Actual Conductivity (ÂµS/cm)</th>\n",
       "      <th>Specific Conductivity (ÂµS/cm)</th>\n",
       "      <th>Salinity (psu)</th>\n",
       "      <th>Resistivity (â„¦-cm)</th>\n",
       "      <th>Density (g/cmÂ³)</th>\n",
       "      <th>Total Dissolved Solids (mg/L)</th>\n",
       "      <th>pH (pH)</th>\n",
       "      <th>pH MV (mV)</th>\n",
       "      <th>ORP (mV)</th>\n",
       "      <th>...</th>\n",
       "      <th>Partial Pressure Oâ‚‚ (psi)</th>\n",
       "      <th>Temperature (C)</th>\n",
       "      <th>External Voltage (V)</th>\n",
       "      <th>Pressure (psi)</th>\n",
       "      <th>Depth (m)</th>\n",
       "      <th>Level: Depth to Water (m)</th>\n",
       "      <th>station_id</th>\n",
       "      <th>Level: Elevation (m)</th>\n",
       "      <th>easting</th>\n",
       "      <th>northing</th>\n",
       "    </tr>\n",
       "  </thead>\n",
       "  <tbody>\n",
       "    <tr>\n",
       "      <th>0</th>\n",
       "      <td>2023-01-11 14:34:00.000</td>\n",
       "      <td>161.135101</td>\n",
       "      <td>169.814270</td>\n",
       "      <td>0.089782</td>\n",
       "      <td>6205.972656</td>\n",
       "      <td>0.998789</td>\n",
       "      <td>110.379279</td>\n",
       "      <td>6.345863</td>\n",
       "      <td>33.323765</td>\n",
       "      <td>242.252640</td>\n",
       "      <td>...</td>\n",
       "      <td>1.728853</td>\n",
       "      <td>17.324095</td>\n",
       "      <td>15.786</td>\n",
       "      <td>1.576587</td>\n",
       "      <td>1.299949</td>\n",
       "      <td>2.264972</td>\n",
       "      <td>FPZ_04A</td>\n",
       "      <td>NaN</td>\n",
       "      <td>1383303.353</td>\n",
       "      <td>3875869.513</td>\n",
       "    </tr>\n",
       "    <tr>\n",
       "      <th>1</th>\n",
       "      <td>2023-01-11 14:39:00.000</td>\n",
       "      <td>161.549484</td>\n",
       "      <td>169.920212</td>\n",
       "      <td>0.089823</td>\n",
       "      <td>6190.053711</td>\n",
       "      <td>0.998772</td>\n",
       "      <td>110.448137</td>\n",
       "      <td>6.392928</td>\n",
       "      <td>30.763149</td>\n",
       "      <td>241.012863</td>\n",
       "      <td>...</td>\n",
       "      <td>1.653776</td>\n",
       "      <td>17.420801</td>\n",
       "      <td>15.813</td>\n",
       "      <td>1.575842</td>\n",
       "      <td>1.299401</td>\n",
       "      <td>2.177014</td>\n",
       "      <td>FPZ_04A</td>\n",
       "      <td>NaN</td>\n",
       "      <td>1383303.353</td>\n",
       "      <td>3875869.513</td>\n",
       "    </tr>\n",
       "    <tr>\n",
       "      <th>2</th>\n",
       "      <td>2023-01-12 00:00:00.000</td>\n",
       "      <td>160.563217</td>\n",
       "      <td>167.590134</td>\n",
       "      <td>0.088505</td>\n",
       "      <td>6228.076660</td>\n",
       "      <td>0.998702</td>\n",
       "      <td>108.933590</td>\n",
       "      <td>6.545794</td>\n",
       "      <td>22.439957</td>\n",
       "      <td>233.128357</td>\n",
       "      <td>...</td>\n",
       "      <td>1.121557</td>\n",
       "      <td>17.804754</td>\n",
       "      <td>15.777</td>\n",
       "      <td>1.577938</td>\n",
       "      <td>1.300915</td>\n",
       "      <td>2.175540</td>\n",
       "      <td>FPZ_04A</td>\n",
       "      <td>NaN</td>\n",
       "      <td>1383303.353</td>\n",
       "      <td>3875869.513</td>\n",
       "    </tr>\n",
       "    <tr>\n",
       "      <th>3</th>\n",
       "      <td>2023-01-13 00:00:00.000</td>\n",
       "      <td>160.465378</td>\n",
       "      <td>167.549561</td>\n",
       "      <td>0.088486</td>\n",
       "      <td>6231.874023</td>\n",
       "      <td>0.998705</td>\n",
       "      <td>108.907215</td>\n",
       "      <td>6.533609</td>\n",
       "      <td>23.105145</td>\n",
       "      <td>233.137894</td>\n",
       "      <td>...</td>\n",
       "      <td>1.053462</td>\n",
       "      <td>17.786329</td>\n",
       "      <td>15.804</td>\n",
       "      <td>1.586493</td>\n",
       "      <td>1.306872</td>\n",
       "      <td>2.169526</td>\n",
       "      <td>FPZ_04A</td>\n",
       "      <td>NaN</td>\n",
       "      <td>1383303.353</td>\n",
       "      <td>3875869.513</td>\n",
       "    </tr>\n",
       "    <tr>\n",
       "      <th>4</th>\n",
       "      <td>2023-01-14 00:00:00.000</td>\n",
       "      <td>160.041122</td>\n",
       "      <td>167.145935</td>\n",
       "      <td>0.088271</td>\n",
       "      <td>6248.394043</td>\n",
       "      <td>0.998707</td>\n",
       "      <td>108.644858</td>\n",
       "      <td>6.524963</td>\n",
       "      <td>23.577213</td>\n",
       "      <td>230.408005</td>\n",
       "      <td>...</td>\n",
       "      <td>1.064563</td>\n",
       "      <td>17.774521</td>\n",
       "      <td>15.786</td>\n",
       "      <td>1.592077</td>\n",
       "      <td>1.310799</td>\n",
       "      <td>2.165600</td>\n",
       "      <td>FPZ_04A</td>\n",
       "      <td>NaN</td>\n",
       "      <td>1383303.353</td>\n",
       "      <td>3875869.513</td>\n",
       "    </tr>\n",
       "  </tbody>\n",
       "</table>\n",
       "<p>5 rows × 22 columns</p>\n",
       "</div>"
      ],
      "text/plain": [
       "                 Date Time  Actual Conductivity (ÂµS/cm)  \\\n",
       "0  2023-01-11 14:34:00.000                    161.135101   \n",
       "1  2023-01-11 14:39:00.000                    161.549484   \n",
       "2  2023-01-12 00:00:00.000                    160.563217   \n",
       "3  2023-01-13 00:00:00.000                    160.465378   \n",
       "4  2023-01-14 00:00:00.000                    160.041122   \n",
       "\n",
       "   Specific Conductivity (ÂµS/cm)  Salinity (psu)  Resistivity (â„¦-cm)  \\\n",
       "0                      169.814270        0.089782           6205.972656   \n",
       "1                      169.920212        0.089823           6190.053711   \n",
       "2                      167.590134        0.088505           6228.076660   \n",
       "3                      167.549561        0.088486           6231.874023   \n",
       "4                      167.145935        0.088271           6248.394043   \n",
       "\n",
       "   Density (g/cmÂ³)  Total Dissolved Solids (mg/L)   pH (pH)  pH MV (mV)  \\\n",
       "0          0.998789                     110.379279  6.345863   33.323765   \n",
       "1          0.998772                     110.448137  6.392928   30.763149   \n",
       "2          0.998702                     108.933590  6.545794   22.439957   \n",
       "3          0.998705                     108.907215  6.533609   23.105145   \n",
       "4          0.998707                     108.644858  6.524963   23.577213   \n",
       "\n",
       "     ORP (mV)  ...  Partial Pressure Oâ‚‚ (psi)  Temperature (C)  \\\n",
       "0  242.252640  ...                     1.728853        17.324095   \n",
       "1  241.012863  ...                     1.653776        17.420801   \n",
       "2  233.128357  ...                     1.121557        17.804754   \n",
       "3  233.137894  ...                     1.053462        17.786329   \n",
       "4  230.408005  ...                     1.064563        17.774521   \n",
       "\n",
       "   External Voltage (V)  Pressure (psi)  Depth (m)  Level: Depth to Water (m)  \\\n",
       "0                15.786        1.576587   1.299949                   2.264972   \n",
       "1                15.813        1.575842   1.299401                   2.177014   \n",
       "2                15.777        1.577938   1.300915                   2.175540   \n",
       "3                15.804        1.586493   1.306872                   2.169526   \n",
       "4                15.786        1.592077   1.310799                   2.165600   \n",
       "\n",
       "   station_id  Level: Elevation (m)      easting     northing  \n",
       "0     FPZ_04A                   NaN  1383303.353  3875869.513  \n",
       "1     FPZ_04A                   NaN  1383303.353  3875869.513  \n",
       "2     FPZ_04A                   NaN  1383303.353  3875869.513  \n",
       "3     FPZ_04A                   NaN  1383303.353  3875869.513  \n",
       "4     FPZ_04A                   NaN  1383303.353  3875869.513  \n",
       "\n",
       "[5 rows x 22 columns]"
      ]
     },
     "execution_count": 23,
     "metadata": {},
     "output_type": "execute_result"
    }
   ],
   "source": [
    "df.head()"
   ]
  },
  {
   "cell_type": "code",
   "execution_count": 24,
   "metadata": {},
   "outputs": [
    {
     "data": {
      "text/plain": [
       "Date Time                              0\n",
       "Actual Conductivity (ÂµS/cm)       59688\n",
       "Specific Conductivity (ÂµS/cm)     59140\n",
       "Salinity (psu)                      7102\n",
       "Resistivity (â„¦-cm)               59696\n",
       "Density (g/cmÂ³)                   59693\n",
       "Total Dissolved Solids (mg/L)       7105\n",
       "pH (pH)                             6555\n",
       "pH MV (mV)                          6587\n",
       "ORP (mV)                           54506\n",
       "DO (mg/L)                          54505\n",
       "% Saturation Oâ‚‚ (% sat)            319\n",
       "Partial Pressure Oâ‚‚ (psi)          703\n",
       "Temperature (C)                    54497\n",
       "External Voltage (V)               55017\n",
       "Pressure (psi)                     54507\n",
       "Depth (m)                          54415\n",
       "Level: Depth to Water (m)          55015\n",
       "station_id                             0\n",
       "Level: Elevation (m)              104851\n",
       "easting                            11322\n",
       "northing                           11322\n",
       "dtype: int64"
      ]
     },
     "execution_count": 24,
     "metadata": {},
     "output_type": "execute_result"
    }
   ],
   "source": [
    "df.isna().sum()"
   ]
  },
  {
   "cell_type": "code",
   "execution_count": 25,
   "metadata": {},
   "outputs": [
    {
     "data": {
      "text/plain": [
       "(104852, 22)"
      ]
     },
     "execution_count": 25,
     "metadata": {},
     "output_type": "execute_result"
    }
   ],
   "source": [
    "df.shape"
   ]
  },
  {
   "cell_type": "code",
   "execution_count": 26,
   "metadata": {},
   "outputs": [],
   "source": [
    "df = df.drop(columns=[\"Level: Elevation (m)\"])"
   ]
  },
  {
   "cell_type": "code",
   "execution_count": 27,
   "metadata": {},
   "outputs": [],
   "source": [
    "df = df.dropna()"
   ]
  },
  {
   "cell_type": "code",
   "execution_count": 28,
   "metadata": {},
   "outputs": [
    {
     "data": {
      "text/plain": [
       "(39187, 21)"
      ]
     },
     "execution_count": 28,
     "metadata": {},
     "output_type": "execute_result"
    }
   ],
   "source": [
    "df.shape"
   ]
  },
  {
   "cell_type": "code",
   "execution_count": 29,
   "metadata": {},
   "outputs": [],
   "source": [
    "df.to_csv(\"../data/csv_files/filtered_data.csv\")"
   ]
  },
  {
   "cell_type": "code",
   "execution_count": 30,
   "metadata": {},
   "outputs": [
    {
     "data": {
      "text/plain": [
       "Date Time                         0\n",
       "Actual Conductivity (ÂµS/cm)      0\n",
       "Specific Conductivity (ÂµS/cm)    0\n",
       "Salinity (psu)                    0\n",
       "Resistivity (â„¦-cm)              0\n",
       "Density (g/cmÂ³)                  0\n",
       "Total Dissolved Solids (mg/L)     0\n",
       "pH (pH)                           0\n",
       "pH MV (mV)                        0\n",
       "ORP (mV)                          0\n",
       "DO (mg/L)                         0\n",
       "% Saturation Oâ‚‚ (% sat)         0\n",
       "Partial Pressure Oâ‚‚ (psi)       0\n",
       "Temperature (C)                   0\n",
       "External Voltage (V)              0\n",
       "Pressure (psi)                    0\n",
       "Depth (m)                         0\n",
       "Level: Depth to Water (m)         0\n",
       "station_id                        0\n",
       "easting                           0\n",
       "northing                          0\n",
       "dtype: int64"
      ]
     },
     "execution_count": 30,
     "metadata": {},
     "output_type": "execute_result"
    }
   ],
   "source": [
    "df.isna().sum()"
   ]
  },
  {
   "cell_type": "code",
   "execution_count": null,
   "metadata": {},
   "outputs": [],
   "source": [
    "\n"
   ]
  }
 ],
 "metadata": {
  "kernelspec": {
   "display_name": "Python 3",
   "language": "python",
   "name": "python3"
  },
  "language_info": {
   "codemirror_mode": {
    "name": "ipython",
    "version": 3
   },
   "file_extension": ".py",
   "mimetype": "text/x-python",
   "name": "python",
   "nbconvert_exporter": "python",
   "pygments_lexer": "ipython3",
   "version": "3.10.6"
  }
 },
 "nbformat": 4,
 "nbformat_minor": 2
}
